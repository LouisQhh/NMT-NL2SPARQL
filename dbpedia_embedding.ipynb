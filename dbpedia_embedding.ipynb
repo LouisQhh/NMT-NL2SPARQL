{
 "cells": [
  {
   "cell_type": "code",
   "execution_count": 1,
   "metadata": {
    "colab": {
     "base_uri": "https://localhost:8080/"
    },
    "executionInfo": {
     "elapsed": 215,
     "status": "ok",
     "timestamp": 1688661403068,
     "user": {
      "displayName": "Honghao Qiu",
      "userId": "12770867871229673910"
     },
     "user_tz": -60
    },
    "id": "_1fZdN0Yk3aH",
    "outputId": "929bbcf0-43bd-4b59-dd32-887dfba3dc62"
   },
   "outputs": [
    {
     "name": "stdout",
     "output_type": "stream",
     "text": [
      "/content/dbdata\n"
     ]
    }
   ],
   "source": [
    "# Create a directory named 'dbdata'\n",
    "!mkdir dbdata\n",
    "\n",
    "# Change the current working directory to 'dbdata'\n",
    "%cd dbdata"
   ]
  },
  {
   "cell_type": "code",
   "execution_count": 2,
   "metadata": {
    "colab": {
     "base_uri": "https://localhost:8080/"
    },
    "executionInfo": {
     "elapsed": 40668,
     "status": "ok",
     "timestamp": 1688661446132,
     "user": {
      "displayName": "Honghao Qiu",
      "userId": "12770867871229673910"
     },
     "user_tz": -60
    },
    "id": "vRgrh4Swj0uq",
    "outputId": "12b1cee2-8ca7-4584-b41e-34f99eb678bf"
   },
   "outputs": [
    {
     "name": "stdout",
     "output_type": "stream",
     "text": [
      "Archive:  ./all.ttl.zip\n",
      "  inflating: ./all.ttl               \n",
      "  inflating: ./__MACOSX/._all.ttl    \n",
      "  47686794  153263480 2672425729 all.ttl\n"
     ]
    }
   ],
   "source": [
    "# Copy the file 'all.ttl.zip' from '/content/drive/MyDrive/' to the current directory\n",
    "!cp /content/drive/MyDrive/all.ttl.zip ./\n",
    "\n",
    "# Unzip the file 'all.ttl.zip' and extract its contents to the current directory\n",
    "!unzip ./all.ttl.zip -d ./\n",
    "\n",
    "# Remove the original zip file 'all.ttl.zip' from '/content/dbdata/'\n",
    "!rm /content/dbdata/all.ttl.zip\n",
    "\n",
    "# Count the number of words, lines, and characters in the file 'all.ttl'\n",
    "!wc all.ttl"
   ]
  },
  {
   "cell_type": "code",
   "execution_count": 3,
   "metadata": {
    "colab": {
     "base_uri": "https://localhost:8080/"
    },
    "executionInfo": {
     "elapsed": 78250,
     "status": "ok",
     "timestamp": 1688661524379,
     "user": {
      "displayName": "Honghao Qiu",
      "userId": "12770867871229673910"
     },
     "user_tz": -60
    },
    "id": "Hn_vl3KWhWed",
    "outputId": "2ecba0e6-fe8e-474f-ac8c-e7ef220e0d4e"
   },
   "outputs": [
    {
     "name": "stdout",
     "output_type": "stream",
     "text": [
      "/content\n",
      "Cloning into 'fastText'...\n",
      "remote: Enumerating objects: 3946, done.\u001b[K\n",
      "remote: Counting objects: 100% (974/974), done.\u001b[K\n",
      "remote: Compressing objects: 100% (153/153), done.\u001b[K\n",
      "remote: Total 3946 (delta 872), reused 831 (delta 820), pack-reused 2972\u001b[K\n",
      "Receiving objects: 100% (3946/3946), 8.25 MiB | 35.82 MiB/s, done.\n",
      "Resolving deltas: 100% (2510/2510), done.\n",
      "/content/fastText\n",
      "Processing /content/fastText\n",
      "  Preparing metadata (setup.py) ... \u001b[?25l\u001b[?25hdone\n",
      "Collecting pybind11>=2.2 (from fasttext==0.9.2)\n",
      "  Using cached pybind11-2.10.4-py3-none-any.whl (222 kB)\n",
      "Requirement already satisfied: setuptools>=0.7.0 in /usr/local/lib/python3.10/dist-packages (from fasttext==0.9.2) (67.7.2)\n",
      "Requirement already satisfied: numpy in /usr/local/lib/python3.10/dist-packages (from fasttext==0.9.2) (1.25.0)\n",
      "Building wheels for collected packages: fasttext\n",
      "  Building wheel for fasttext (setup.py) ... \u001b[?25l\u001b[?25hdone\n",
      "  Created wheel for fasttext: filename=fasttext-0.9.2-cp310-cp310-linux_x86_64.whl size=4384288 sha256=70f1879cdacac6de2b2a99c28d0befd9ac65584d645b21331fa5bec35d2a4586\n",
      "  Stored in directory: /tmp/pip-ephem-wheel-cache-ovmusg3l/wheels/8b/05/af/3cfae069d904597d44b309c956601b611bdf8967bcbe968903\n",
      "Successfully built fasttext\n",
      "Installing collected packages: pybind11, fasttext\n",
      "Successfully installed fasttext-0.9.2 pybind11-2.10.4\n",
      "c++ -pthread -std=c++11 -march=native -O3 -funroll-loops -DNDEBUG -c src/args.cc\n",
      "c++ -pthread -std=c++11 -march=native -O3 -funroll-loops -DNDEBUG -c src/autotune.cc\n",
      "c++ -pthread -std=c++11 -march=native -O3 -funroll-loops -DNDEBUG -c src/matrix.cc\n",
      "c++ -pthread -std=c++11 -march=native -O3 -funroll-loops -DNDEBUG -c src/dictionary.cc\n",
      "c++ -pthread -std=c++11 -march=native -O3 -funroll-loops -DNDEBUG -c src/loss.cc\n",
      "c++ -pthread -std=c++11 -march=native -O3 -funroll-loops -DNDEBUG -c src/productquantizer.cc\n",
      "c++ -pthread -std=c++11 -march=native -O3 -funroll-loops -DNDEBUG -c src/densematrix.cc\n",
      "c++ -pthread -std=c++11 -march=native -O3 -funroll-loops -DNDEBUG -c src/quantmatrix.cc\n",
      "c++ -pthread -std=c++11 -march=native -O3 -funroll-loops -DNDEBUG -c src/vector.cc\n",
      "c++ -pthread -std=c++11 -march=native -O3 -funroll-loops -DNDEBUG -c src/model.cc\n",
      "c++ -pthread -std=c++11 -march=native -O3 -funroll-loops -DNDEBUG -c src/utils.cc\n",
      "c++ -pthread -std=c++11 -march=native -O3 -funroll-loops -DNDEBUG -c src/meter.cc\n",
      "c++ -pthread -std=c++11 -march=native -O3 -funroll-loops -DNDEBUG -c src/fasttext.cc\n",
      "c++ -pthread -std=c++11 -march=native -O3 -funroll-loops -DNDEBUG args.o autotune.o matrix.o dictionary.o loss.o productquantizer.o densematrix.o quantmatrix.o vector.o model.o utils.o meter.o fasttext.o src/main.cc -o fasttext\n"
     ]
    }
   ],
   "source": [
    "%cd ..\n",
    "# !rm -rf fastText\n",
    "!git clone https://github.com/facebookresearch/fastText.git\n",
    "%cd fastText\n",
    "!sudo pip install .\n",
    "!make"
   ]
  },
  {
   "cell_type": "code",
   "execution_count": 4,
   "metadata": {
    "colab": {
     "base_uri": "https://localhost:8080/"
    },
    "executionInfo": {
     "elapsed": 11,
     "status": "ok",
     "timestamp": 1688661524379,
     "user": {
      "displayName": "Honghao Qiu",
      "userId": "12770867871229673910"
     },
     "user_tz": -60
    },
    "id": "3TTHXf6Sng3M",
    "outputId": "e2454ae2-6b8d-4aed-e14e-4ee45c926f7d"
   },
   "outputs": [
    {
     "name": "stdout",
     "output_type": "stream",
     "text": [
      "/content/fastText\n",
      "/content\n",
      "dbdata\tdrive  fastText  sample_data\n"
     ]
    }
   ],
   "source": [
    "# Print the current working directory\n",
    "!pwd\n",
    "\n",
    "# Change the current working directory to the parent directory\n",
    "%cd ..\n",
    "\n",
    "# List the contents of the current directory\n",
    "!ls"
   ]
  },
  {
   "cell_type": "code",
   "execution_count": 5,
   "metadata": {
    "colab": {
     "base_uri": "https://localhost:8080/"
    },
    "executionInfo": {
     "elapsed": 7,
     "status": "ok",
     "timestamp": 1688661524380,
     "user": {
      "displayName": "Honghao Qiu",
      "userId": "12770867871229673910"
     },
     "user_tz": -60
    },
    "id": "L_Ech8HfnvqD",
    "outputId": "6f0939f3-2998-4c61-d547-2e315ffa3c37"
   },
   "outputs": [
    {
     "name": "stdout",
     "output_type": "stream",
     "text": [
      "/content/dbdata\n",
      "all.ttl  __MACOSX\n"
     ]
    }
   ],
   "source": [
    "# Change the current working directory to 'dbdata'\n",
    "%cd dbdata\n",
    "\n",
    "# List the contents of the current directory\n",
    "!ls"
   ]
  },
  {
   "cell_type": "code",
   "execution_count": 6,
   "metadata": {
    "executionInfo": {
     "elapsed": 1151974,
     "status": "ok",
     "timestamp": 1688662678321,
     "user": {
      "displayName": "Honghao Qiu",
      "userId": "12770867871229673910"
     },
     "user_tz": -60
    },
    "id": "rtdK0yChmy5X"
   },
   "outputs": [],
   "source": [
    "# Import the fastText library\n",
    "import fasttext\n",
    "\n",
    "# Train a supervised fastText model\n",
    "# - \"input\" specifies the training data file (\"all.ttl\" in this case)\n",
    "# - \"lr\" is the learning rate for training\n",
    "# - \"epoch\" is the number of training epochs\n",
    "# - \"dim\" is the size of the word vectors\n",
    "# - \"loss\" is the loss function to be used during training\n",
    "# - \"thread\" is the number of threads to use for training\n",
    "model = fasttext.train_supervised(input=\"all.ttl\", lr=0.01, epoch=100, dim=300, loss='ns', thread=20)\n"
   ]
  },
  {
   "cell_type": "code",
   "execution_count": 7,
   "metadata": {
    "executionInfo": {
     "elapsed": 207,
     "status": "ok",
     "timestamp": 1688662787865,
     "user": {
      "displayName": "Honghao Qiu",
      "userId": "12770867871229673910"
     },
     "user_tz": -60
    },
    "id": "7udUK6bTpJb2"
   },
   "outputs": [],
   "source": [
    "model.save_model(\"embedding.bin\")  # Save the trained model to a file named \"embedding.bin\"\n"
   ]
  },
  {
   "cell_type": "code",
   "execution_count": 8,
   "metadata": {
    "executionInfo": {
     "elapsed": 362955,
     "status": "ok",
     "timestamp": 1688663198394,
     "user": {
      "displayName": "Honghao Qiu",
      "userId": "12770867871229673910"
     },
     "user_tz": -60
    },
    "id": "Wi2wBDQFJeZ5"
   },
   "outputs": [],
   "source": [
    "# Copy the saved model file \"embedding.bin\" from the current directory to \"/content/drive/MyDrive/\"\n",
    "!cp /content/dbdata/embedding.bin /content/drive/MyDrive/\n"
   ]
  },
  {
   "cell_type": "code",
   "execution_count": null,
   "metadata": {
    "colab": {
     "base_uri": "https://localhost:8080/"
    },
    "executionInfo": {
     "elapsed": 217,
     "status": "ok",
     "timestamp": 1688658155191,
     "user": {
      "displayName": "Honghao Qiu",
      "userId": "12770867871229673910"
     },
     "user_tz": -60
    },
    "id": "PSH-B9x3_bKA",
    "outputId": "f7676a13-0c06-4087-82f3-c8988ae9097f"
   },
   "outputs": [
    {
     "name": "stdout",
     "output_type": "stream",
     "text": [
      "\n",
      "\n",
      "\n",
      "zip error: Interrupted (aborting)\n"
     ]
    }
   ],
   "source": [
    "# Create a zip archive named \"embedding.zip\" containing the file \"embedding.bin\"\n",
    "!zip embedding.zip embedding.bin\n"
   ]
  },
  {
   "cell_type": "code",
   "execution_count": 9,
   "metadata": {
    "colab": {
     "base_uri": "https://localhost:8080/"
    },
    "executionInfo": {
     "elapsed": 514,
     "status": "ok",
     "timestamp": 1688663708212,
     "user": {
      "displayName": "Honghao Qiu",
      "userId": "12770867871229673910"
     },
     "user_tz": -60
    },
    "id": "ENor0foh_j4D",
    "outputId": "c43f5d8e-0ec6-4bc9-bd81-e1e69495d15d"
   },
   "outputs": [
    {
     "name": "stdout",
     "output_type": "stream",
     "text": [
      "cp: cannot stat '/content/dbdata/embedding.zip': No such file or directory\n"
     ]
    }
   ],
   "source": [
    "# Copy the created zip archive \"embedding.zip\" from the current directory to \"/content/drive/MyDrive/\"\n",
    "!cp /content/dbdata/embedding.zip /content/drive/MyDrive/\n"
   ]
  },
  {
   "cell_type": "code",
   "execution_count": 10,
   "metadata": {
    "executionInfo": {
     "elapsed": 673,
     "status": "ok",
     "timestamp": 1688663729327,
     "user": {
      "displayName": "Honghao Qiu",
      "userId": "12770867871229673910"
     },
     "user_tz": -60
    },
    "id": "EWkhoRMFTHIB"
   },
   "outputs": [],
   "source": [
    "# Copy the file \"bin_to_vec.py\" from \"/content/drive/MyDrive/\" to the current directory\n",
    "!cp /content/drive/MyDrive/bin_to_vec.py ./\n"
   ]
  },
  {
   "cell_type": "code",
   "execution_count": 2,
   "metadata": {
    "executionInfo": {
     "elapsed": 2816513,
     "status": "ok",
     "timestamp": 1688666646099,
     "user": {
      "displayName": "Honghao Qiu",
      "userId": "12770867871229673910"
     },
     "user_tz": -60
    },
    "id": "X_3tS6zmAI_N"
   },
   "outputs": [],
   "source": [
    "# Run the script \"bin_to_vec.py\" with the input model \"embedding.bin\" and redirect the output to a file named \"embedding.vec\"\n",
    "!python bin_to_vec.py embedding.bin > embedding.vec\n"
   ]
  },
  {
   "cell_type": "code",
   "execution_count": 1,
   "metadata": {
    "colab": {
     "base_uri": "https://localhost:8080/"
    },
    "executionInfo": {
     "elapsed": 333,
     "status": "ok",
     "timestamp": 1688663828131,
     "user": {
      "displayName": "Honghao Qiu",
      "userId": "12770867871229673910"
     },
     "user_tz": -60
    },
    "id": "PSBB54m7ekbr",
    "outputId": "098b601a-bdfc-464f-e5c4-7e8460c6d35c"
   },
   "outputs": [
    {
     "name": "stdout",
     "output_type": "stream",
     "text": [
      "/content/dbdata\n"
     ]
    }
   ],
   "source": [
    "# Change the current working directory to 'dbdata'\n",
    "%cd dbdata\n"
   ]
  },
  {
   "cell_type": "code",
   "execution_count": null,
   "metadata": {
    "colab": {
     "base_uri": "https://localhost:8080/"
    },
    "executionInfo": {
     "elapsed": 194,
     "status": "ok",
     "timestamp": 1688651718463,
     "user": {
      "displayName": "Honghao Qiu",
      "userId": "12770867871229673910"
     },
     "user_tz": -60
    },
    "id": "qf0eH2rqexb5",
    "outputId": "420e3b28-609c-4670-dd3c-48ad6eb28576"
   },
   "outputs": [
    {
     "name": "stdout",
     "output_type": "stream",
     "text": [
      "all.ttl  bin_to_vec.py\tembedding.bin  embedding.zip  __MACOSX\n"
     ]
    }
   ],
   "source": [
    "# List the contents of the current directory\n",
    "!ls\n"
   ]
  },
  {
   "cell_type": "code",
   "execution_count": null,
   "metadata": {
    "colab": {
     "background_save": true
    },
    "id": "Hpi2AQzFe0TR"
   },
   "outputs": [],
   "source": [
    "# Copy the file \"embedding.vec\" from the current directory to \"/content/drive/MyDrive/\"\n",
    "!cp /content/dbdata/embedding.vec /content/drive/MyDrive/\n"
   ]
  }
 ],
 "metadata": {
  "accelerator": "TPU",
  "colab": {
   "authorship_tag": "ABX9TyPLYa29Dlz/AQ0R80ID01s/",
   "machine_shape": "hm",
   "mount_file_id": "1TBnu6ILAGRAGIVycwyEEO6wdrFlHlKQ8",
   "name": "",
   "version": ""
  },
  "kernelspec": {
   "display_name": "Python 3 (ipykernel)",
   "language": "python",
   "name": "python3"
  },
  "language_info": {
   "codemirror_mode": {
    "name": "ipython",
    "version": 3
   },
   "file_extension": ".py",
   "mimetype": "text/x-python",
   "name": "python",
   "nbconvert_exporter": "python",
   "pygments_lexer": "ipython3",
   "version": "3.9.13"
  }
 },
 "nbformat": 4,
 "nbformat_minor": 1
}
