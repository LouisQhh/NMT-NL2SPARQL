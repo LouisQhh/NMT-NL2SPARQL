{
 "cells": [
  {
   "attachments": {},
   "cell_type": "markdown",
   "metadata": {},
   "source": []
  },
  {
   "attachments": {},
   "cell_type": "markdown",
   "metadata": {},
   "source": [
    "## 1. Transform \"instance_types_en.ttl\""
   ]
  },
  {
   "cell_type": "code",
   "execution_count": 5,
   "metadata": {},
   "outputs": [],
   "source": [
    "input_file = 'instance_types_en.ttl'  # Input file name containing the data to process\n",
    "output_file = 'trans_types.ttl'  # Output file name to write the processed data\n",
    "\n",
    "with open(input_file, 'r') as file:  # Open the input file in read mode\n",
    "    lines = file.readlines()  # Read all lines from the input file and store them in a list\n",
    "\n",
    "formatted_lines = []  # Initialize an empty list to store the formatted lines\n",
    "for line in lines:  # Iterate over each line in the list of lines\n",
    "    if line.startswith('<http://dbpedia.org/resource/'):  # Check if the line starts with a specific pattern\n",
    "        parts = line.strip().split(' ')  # Split the line by spaces and remove leading/trailing whitespace\n",
    "        subject = parts[0].split('/')[-1][:-1]  # Extract the subject from the line\n",
    "        rdf_type = parts[2].split('/')[-1][:-1]  # Extract the RDF type from the line\n",
    "        if rdf_type == 'owl#Thing':  # Check if the RDF type is 'owl#Thing'\n",
    "            rdf_type = 'Thing'  # If so, update the RDF type to 'Thing'\n",
    "        formatted_line = f'dbr_{subject} rdf_type dbo_{rdf_type}\\n'  # Format the line with the subject and RDF type\n",
    "        formatted_lines.append(formatted_line)  # Add the formatted line to the list of formatted lines\n",
    "\n",
    "with open(output_file, 'w') as file:  # Open the output file in write mode\n",
    "    file.writelines(formatted_lines)  # Write all the formatted lines to the output file\n"
   ]
  },
  {
   "attachments": {},
   "cell_type": "markdown",
   "metadata": {},
   "source": [
    "## 2. Transform \"labels_en.ttl\""
   ]
  },
  {
   "cell_type": "code",
   "execution_count": 4,
   "metadata": {},
   "outputs": [],
   "source": [
    "with open(\"labels_en.ttl\", \"r\") as input_file, open(\"trans_labels.ttl\", \"w\") as output_file:\n",
    "    for line in input_file:  # Iterate over each line in the input file\n",
    "        if line.startswith('<http://dbpedia.org/resource/'):  # Check if the line starts with a specific pattern\n",
    "            parts = line.strip().split(\" \")  # Split the line by spaces and remove leading/trailing whitespace\n",
    "\n",
    "            entity = parts[0].split('/')[-1][:-1]  # Extract the entity from the line\n",
    "            if len(parts) == 4:  # Check if the line has four parts\n",
    "                label = parts[2].strip('\"')[:-4]  # Extract the label from the line\n",
    "                output_file.write(\"__label__dbr_{} {}\\n\".format(entity, label))  # Write the formatted label to the output file\n",
    "            if len(parts) == 5:  # Check if the line has five parts\n",
    "                label1 = parts[2].strip('\"')  # Extract the first part of the label\n",
    "                label2 = parts[3].strip('\"')[:-4]  # Extract the second part of the label\n",
    "                label = label1 + \" \" + label2  # Combine the two label parts\n",
    "                output_file.write(\"__label__dbr_{} {}\\n\".format(entity, label))  # Write the formatted label to the output file\n",
    "            if len(parts) > 5:  # Check if the line has more than five parts\n",
    "                label1 = parts[2].strip('\"')  # Extract the first part of the label\n",
    "                # Extract and format the middle part of the label\n",
    "                label2 = str(parts[3:-2]).replace('\"', '').replace(',', '').replace('[', '').replace(']', '')  \n",
    "                label3 = parts[-2].strip('\"')[:-4]  # Extract the last part of the label\n",
    "                label = label1 + \" \" + label2 + \" \" + label3  # Combine all three label parts\n",
    "                output_file.write(\"__label__dbr_{} {}\\n\".format(entity, label))  # Write the formatted label to the output file\n"
   ]
  },
  {
   "attachments": {},
   "cell_type": "markdown",
   "metadata": {},
   "source": [
    "## 3. Transform \"mappingbased_objects_en.ttl\""
   ]
  },
  {
   "cell_type": "code",
   "execution_count": 5,
   "metadata": {},
   "outputs": [],
   "source": [
    "with open(\"mappingbased_objects_en.ttl\", \"r\") as input_file, open(\"trans_objects.ttl\", \"w\") as output_file:\n",
    "    for line in input_file:  # Iterate over each line in the input file\n",
    "        if line.startswith('<http://dbpedia.org/resource/'):  # Check if the line starts with a specific pattern\n",
    "            triple_parts = line.strip().split(\" \")  # Split the line by spaces and remove leading/trailing whitespace\n",
    "\n",
    "            # Check if the predicate does not start with specific patterns\n",
    "            if not triple_parts[1].startswith(\"<http://xmlns\") and not triple_parts[1].startswith(\"<http://www.w3\"):                  \n",
    "                subject = triple_parts[0][1:-1].split(\"/\")[-1]  # Extract the subject from the line\n",
    "                predicate = triple_parts[1][1:-1].split(\"/\")[-1]  # Extract the predicate from the line\n",
    "                object_ = triple_parts[2][1:-1].split(\"/\")[-1]  # Extract the object from the line\n",
    "\n",
    "                # Create a new line with the formatted subject, predicate, and object\n",
    "                new_line = f\"dbr_{subject} dbo_{predicate} dbr_{object_}\"  \n",
    "                output_file.write(new_line + \"\\n\")  # Write the new line to the output file\n",
    "\n",
    "                # Additionally, create a reversed line to represent the object as the subject and vice versa\n",
    "                output_file.write(f\"dbr_{object_} dbo_{predicate} dbr_{subject}\\n\")\n"
   ]
  },
  {
   "attachments": {},
   "cell_type": "markdown",
   "metadata": {},
   "source": [
    "## 4. Merge documents"
   ]
  },
  {
   "cell_type": "code",
   "execution_count": 6,
   "metadata": {},
   "outputs": [],
   "source": [
    "# Read the three files that have been converted\n",
    "with open(\"trans_labels.ttl\", \"r\") as labels_file, \\\n",
    "        open(\"trans_objects.ttl\", \"r\") as objects_file, \\\n",
    "        open(\"trans_types.ttl\", \"r\") as types_file, \\\n",
    "        open(\"all.ttl\", \"w\") as output_file:\n",
    "    # Merge labels files\n",
    "    for line in labels_file:  # Iterate over each line in the labels file\n",
    "        output_file.write(line)  # Write the line to the output file\n",
    "\n",
    "    # Merge objects files\n",
    "    for line in objects_file:  # Iterate over each line in the objects file\n",
    "        output_file.write(line)  # Write the line to the output file\n",
    "\n",
    "    # Merge types files\n",
    "    for line in types_file:  # Iterate over each line in the types file\n",
    "        output_file.write(line)  # Write the line to the output file\n"
   ]
  },
  {
   "attachments": {},
   "cell_type": "markdown",
   "metadata": {},
   "source": [
    "### 4.1 Delete lines containing characters other than English characters and punctuation"
   ]
  },
  {
   "cell_type": "code",
   "execution_count": 1,
   "metadata": {},
   "outputs": [],
   "source": [
    "\n",
    "import re\n",
    "\n",
    "def remove_non_english_lines(filename):\n",
    "    with open(filename, 'r') as file:\n",
    "        lines = file.readlines()\n",
    "\n",
    "    # Matching lines containing non-English characters using regular expressions\n",
    "    pattern = re.compile(r'[^\\x00-\\x7F]')\n",
    "    filtered_lines = [line for line in lines if not pattern.search(line)]\n",
    "\n",
    "    with open(filename, 'w') as file:\n",
    "        file.writelines(filtered_lines)\n",
    "\n",
    "remove_non_english_lines('all.ttl')\n"
   ]
  }
 ],
 "metadata": {
  "kernelspec": {
   "display_name": "base",
   "language": "python",
   "name": "python3"
  },
  "language_info": {
   "codemirror_mode": {
    "name": "ipython",
    "version": 3
   },
   "file_extension": ".py",
   "mimetype": "text/x-python",
   "name": "python",
   "nbconvert_exporter": "python",
   "pygments_lexer": "ipython3",
   "version": "3.9.13"
  },
  "orig_nbformat": 4
 },
 "nbformat": 4,
 "nbformat_minor": 2
}
